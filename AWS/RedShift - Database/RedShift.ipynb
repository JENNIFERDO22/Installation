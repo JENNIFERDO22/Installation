{
 "cells": [
  {
   "cell_type": "markdown",
   "metadata": {},
   "source": [
    "Intro link: https://www.blendo.co/documents/setup-amazon-redshift/"
   ]
  },
  {
   "cell_type": "markdown",
   "metadata": {},
   "source": [
    "https://www.youtube.com/watch?v=9W9nvx8IG_w&list=PLh5v4I2M5t-WrP-HM_yfn_M98oN8znz6C&index=2"
   ]
  },
  {
   "cell_type": "markdown",
   "metadata": {},
   "source": [
    "Official docs: https://docs.aws.amazon.com/redshift/latest/gsg/rs-gsg-connect-to-cluster.html"
   ]
  },
  {
   "cell_type": "markdown",
   "metadata": {},
   "source": [
    "Connect to SQL Workbench: https://docs.aws.amazon.com/redshift/latest/mgmt/configure-jdbc-connection.html"
   ]
  },
  {
   "cell_type": "markdown",
   "metadata": {},
   "source": [
    "Interesting youtube: https://www.youtube.com/watch?v=9W9nvx8IG_w&list=PLh5v4I2M5t-WrP-HM_yfn_M98oN8znz6C&index=2"
   ]
  },
  {
   "cell_type": "raw",
   "metadata": {},
   "source": [
    "Interesting Redshift example - Stackoverflow data: <br> \n",
    "https://www.sqlbot.co/blog/aws-redshift-what-is-it-15-minute-tutorial-explanation"
   ]
  },
  {
   "cell_type": "markdown",
   "metadata": {},
   "source": [
    "Redshift and Python \n",
    "https://www.periscopedata.com/blog/python-create-table"
   ]
  }
 ],
 "metadata": {
  "kernelspec": {
   "display_name": "Python 3",
   "language": "python",
   "name": "python3"
  },
  "language_info": {
   "codemirror_mode": {
    "name": "ipython",
    "version": 3
   },
   "file_extension": ".py",
   "mimetype": "text/x-python",
   "name": "python",
   "nbconvert_exporter": "python",
   "pygments_lexer": "ipython3",
   "version": "3.7.3"
  }
 },
 "nbformat": 4,
 "nbformat_minor": 2
}
