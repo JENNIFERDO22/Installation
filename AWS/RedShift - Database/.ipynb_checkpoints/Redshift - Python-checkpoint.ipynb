{
 "cells": [
  {
   "cell_type": "code",
   "execution_count": 1,
   "metadata": {},
   "outputs": [],
   "source": [
    "import psycopg2"
   ]
  },
  {
   "cell_type": "code",
   "execution_count": 7,
   "metadata": {},
   "outputs": [],
   "source": [
    "stmt = 'DROP TABLE student CASCADE;'"
   ]
  },
  {
   "cell_type": "code",
   "execution_count": 10,
   "metadata": {},
   "outputs": [],
   "source": [
    "conn = psycopg2.connect(\n",
    "    host=\"my-first-cluster.ci42zbb99gqv.ap-southeast-1.redshift.amazonaws.com\",\n",
    "    user='jennie',\n",
    "    password='Camgiaclucay1',\n",
    "    port=5439,\n",
    "    dbname='myfirstdb'\n",
    ")\n",
    "\n",
    "cur = conn.cursor()\n",
    "try:\n",
    "    cur.execute(stmt)\n",
    "except:\n",
    "    conn.rollback()\n",
    "conn.commit()"
   ]
  },
  {
   "cell_type": "code",
   "execution_count": 12,
   "metadata": {},
   "outputs": [],
   "source": [
    "stmt = 'create table student(studentid int identity(1,1) primary key, stname varchar(100) not null, stage int not null);'\n",
    "try:\n",
    "    cur.execute(stmt)\n",
    "except:\n",
    "    conn.rollback()\n",
    "conn.commit()"
   ]
  },
  {
   "cell_type": "code",
   "execution_count": 17,
   "metadata": {},
   "outputs": [
    {
     "name": "stdout",
     "output_type": "stream",
     "text": [
      "Successfully inserted\n"
     ]
    }
   ],
   "source": [
    "sql = \"insert into student(stname, stage) values ('Jennie', 20);\"\n",
    "try:\n",
    "    cur.execute(sql)\n",
    "    print('Successfully inserted')\n",
    "except:\n",
    "    conn.rollback()\n",
    "conn.commit()"
   ]
  },
  {
   "cell_type": "code",
   "execution_count": 24,
   "metadata": {},
   "outputs": [
    {
     "name": "stdout",
     "output_type": "stream",
     "text": [
      "Successfully fetched data\n",
      "(2, 'Jennie', 20)\n"
     ]
    }
   ],
   "source": [
    "sql = 'select * from student;'\n",
    "try:\n",
    "    result = cur.fetchone()\n",
    "    print('Successfully fetched data')\n",
    "    print(result)\n",
    "except:\n",
    "    conn.rollback()\n",
    "conn.commit()\n"
   ]
  }
 ],
 "metadata": {
  "kernelspec": {
   "display_name": "Python 3",
   "language": "python",
   "name": "python3"
  },
  "language_info": {
   "codemirror_mode": {
    "name": "ipython",
    "version": 3
   },
   "file_extension": ".py",
   "mimetype": "text/x-python",
   "name": "python",
   "nbconvert_exporter": "python",
   "pygments_lexer": "ipython3",
   "version": "3.7.3"
  }
 },
 "nbformat": 4,
 "nbformat_minor": 2
}
