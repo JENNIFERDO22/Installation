{
 "cells": [
  {
   "cell_type": "code",
   "execution_count": 63,
   "metadata": {},
   "outputs": [],
   "source": [
    "import pandas as pd\n",
    "import ast"
   ]
  },
  {
   "cell_type": "code",
   "execution_count": 44,
   "metadata": {},
   "outputs": [],
   "source": [
    "def create_schema(df):\n",
    "    result = []\n",
    "    for col in df.columns.values:\n",
    "        \n",
    "        result.append(col + ' varchar(1000)')\n",
    "        \n",
    "    schema = ', '.join(result)\n",
    "    schema = 'create table stackoverflow(' + schema + ')'\n",
    "    \n",
    "    return schema\n",
    "    "
   ]
  },
  {
   "cell_type": "code",
   "execution_count": 51,
   "metadata": {},
   "outputs": [],
   "source": [
    "def dataType(val, current_type):\n",
    "    try:\n",
    "        # Evaluates numbers to an appropriate type, and strings an error\n",
    "        t = ast.literal_eval(val)\n",
    "    except ValueError:\n",
    "        return 'varchar'\n",
    "    except SyntaxError:\n",
    "        return 'varchar'\n",
    "    \n",
    "    if type(t) in [int, long, float]:\n",
    "        if (type(t) in [int, long]) and current_type not in ['float', 'varchar']:\n",
    "           # Use smallest possible int type\n",
    "            if (-32768 < t < 32767) and current_type not in ['int', 'bigint']:\n",
    "                return 'smallint'\n",
    "            elif (-2147483648 < t < 2147483647) and current_type not in ['bigint']:\n",
    "                return 'int'\n",
    "            else:\n",
    "                return 'bigint'\n",
    "        if type(t) is float and current_type not in ['varchar']:\n",
    "            return 'decimal'\n",
    "    else:\n",
    "        return 'varchar'"
   ]
  },
  {
   "cell_type": "code",
   "execution_count": 83,
   "metadata": {},
   "outputs": [
    {
     "ename": "IndexError",
     "evalue": "tuple index out of range",
     "output_type": "error",
     "traceback": [
      "\u001b[1;31m---------------------------------------------------------------------------\u001b[0m",
      "\u001b[1;31mIndexError\u001b[0m                                Traceback (most recent call last)",
      "\u001b[1;32m<ipython-input-83-ed12f7cc7ba9>\u001b[0m in \u001b[0;36m<module>\u001b[1;34m\u001b[0m\n\u001b[0;32m      8\u001b[0m \u001b[1;33m\u001b[0m\u001b[0m\n\u001b[0;32m      9\u001b[0m \u001b[1;32mfor\u001b[0m \u001b[0mrow\u001b[0m \u001b[1;32min\u001b[0m \u001b[0mdf\u001b[0m\u001b[1;33m.\u001b[0m\u001b[0miterrows\u001b[0m\u001b[1;33m(\u001b[0m\u001b[1;33m)\u001b[0m\u001b[1;33m:\u001b[0m\u001b[1;33m\u001b[0m\u001b[1;33m\u001b[0m\u001b[0m\n\u001b[1;32m---> 10\u001b[1;33m     \u001b[0mprint\u001b[0m\u001b[1;33m(\u001b[0m\u001b[0mrow\u001b[0m\u001b[1;33m[\u001b[0m\u001b[1;36m2\u001b[0m\u001b[1;33m]\u001b[0m\u001b[1;33m)\u001b[0m\u001b[1;33m\u001b[0m\u001b[1;33m\u001b[0m\u001b[0m\n\u001b[0m\u001b[0;32m     11\u001b[0m     \u001b[1;32mbreak\u001b[0m\u001b[1;33m\u001b[0m\u001b[1;33m\u001b[0m\u001b[0m\n\u001b[0;32m     12\u001b[0m \u001b[1;33m\u001b[0m\u001b[0m\n",
      "\u001b[1;31mIndexError\u001b[0m: tuple index out of range"
     ]
    }
   ],
   "source": [
    "df = pd.read_csv(\"./developer_survey_2019/survey_results_public.csv\")\n",
    "\n",
    "types = []\n",
    "longest = []\n",
    "headers = df.columns.values\n",
    "index = 0\n",
    "\n",
    "\n",
    "for row in df.iterrows():\n",
    "    print(row[2])\n",
    "    break\n",
    "\n",
    "for index in range(len(headers)):\n",
    "    curr_type = ''\n",
    "    curr_longest = 0\n",
    "    print(col)\n",
    "    \n",
    "    for row in df.iterrows():\n",
    "        if curr_type == 'varchar':\n",
    "            pass  \n",
    "        if row[index] == 'NaN':\n",
    "            continue\n",
    "        else:\n",
    "            curr_type = dataType(row[index], curr_type)\n",
    "\n",
    "        if type(row[index]) == 'str' and len(row[index]) > curr_longest:\n",
    "            curr_longest = len(row[index])\n",
    "\n",
    "    longest.append(curr_longest)\n",
    "    types.append(curr_type)\n",
    "\n",
    "result = []\n",
    "for i in len(headers):\n",
    "    tmp = headers[i] + ' ' + types[i]\n",
    "    if types[i] == 'varchar':\n",
    "        result.append(tmp + '('+ longest[i] +')')\n",
    "    result.append(tmp)\n",
    "\n",
    "schema = ', '.join(result)\n",
    "schema = 'create table stackoverflow(' + schema + ')'\n",
    "print(schema)\n"
   ]
  },
  {
   "cell_type": "code",
   "execution_count": 72,
   "metadata": {},
   "outputs": [],
   "source": [
    "index = 0\n",
    "for row in df.iterrows():\n",
    "    print(row[0])\n",
    "\n",
    "for row in df.iterrows():\n",
    "    row[1]\n",
    "\n"
   ]
  },
  {
   "cell_type": "code",
   "execution_count": null,
   "metadata": {},
   "outputs": [],
   "source": [
    "copy stackoverflow\n",
    "from 's3:///survey_results_public.csv'\n",
    "iam_role 'demoRedshiftRole'\n",
    "IGNOREHEADER as 1\n",
    "FORMAT AS CSV;"
   ]
  },
  {
   "cell_type": "markdown",
   "metadata": {},
   "source": [
    "Link: https://docs.aws.amazon.com/redshift/latest/dg/tutorial-loading-data.html"
   ]
  },
  {
   "cell_type": "markdown",
   "metadata": {},
   "source": [
    "https://docs.aws.amazon.com/redshift/latest/dg/tutorial-loading-run-copy.html"
   ]
  },
  {
   "cell_type": "code",
   "execution_count": null,
   "metadata": {},
   "outputs": [],
   "source": [
    "# in file credentials\n",
    "copy stackoverflow\n",
    "from 's3://demo-redshift-stackoverflow/survey_results_public.csv'\n",
    "credentials 'aws_access_key_id=;aws_secret_access_key='\n",
    "csv;"
   ]
  },
  {
   "cell_type": "markdown",
   "metadata": {},
   "source": [
    "## From Redshift to S3"
   ]
  },
  {
   "cell_type": "markdown",
   "metadata": {},
   "source": [
    "UNLOAD ('select_statement')\n",
    "TO 's3://object_path_prefix'\n",
    "[ WITH ] CREDENTIALS [AS] 'aws_access_credentials'\n",
    "[ option [ ... ] ]\n",
    "where option is\n",
    "{ MANIFEST\n",
    "| DELIMITER [ AS ] 'delimiter_char'\n",
    "| FIXEDWIDTH [ AS ] 'fixedwidth_spec' }\n",
    "| ENCRYPTED\n",
    "| GZIP\n",
    "| ADDQUOTES\n",
    "| NULL [ AS ] 'null_string'\n",
    "| ESCAPE\n",
    "| ALLOWOVERWRITE\n",
    "| PARALLEL [ { ON | TRUE } | { OFF | FALSE } ]\n",
    "A simple UNLOAD query would look like this:\n",
    "UNLOAD ('\n",
    "SELECT\n",
    "id,\n",
    "email\n",
    "FROM users\n",
    "')\n",
    "TO 's3://bucket_name/file_prefix_'\n",
    "CREDENTIALS 'aws_access_key_id=KEY1;aws_secret_access_key=KEY2'\n",
    "ESCAPE\n",
    "PARALLEL OFF;"
   ]
  },
  {
   "cell_type": "code",
   "execution_count": null,
   "metadata": {},
   "outputs": [],
   "source": [
    "unload('\n",
    "(select ''color'', ''shoetype'')\n",
    "union\n",
    "(select color, shoetype from \"shoes\")\n",
    "order by 1 desc\n",
    "')\n",
    "\n",
    "to 's3://demo-redshift-stackoverflow/shoes.csv'\n",
    "credentials 'aws_access_key_id=;aws_secret_access_key='\n",
    "allowoverwrite\n",
    "delimiter\n",
    "manifest\n",
    "escape\n",
    "parallel off\n",
    ";\n",
    "\n"
   ]
  }
 ],
 "metadata": {
  "kernelspec": {
   "display_name": "Python 3",
   "language": "python",
   "name": "python3"
  },
  "language_info": {
   "codemirror_mode": {
    "name": "ipython",
    "version": 3
   },
   "file_extension": ".py",
   "mimetype": "text/x-python",
   "name": "python",
   "nbconvert_exporter": "python",
   "pygments_lexer": "ipython3",
   "version": "3.7.3"
  }
 },
 "nbformat": 4,
 "nbformat_minor": 2
}
