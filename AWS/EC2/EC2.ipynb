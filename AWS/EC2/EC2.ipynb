{
 "cells": [
  {
   "cell_type": "markdown",
   "metadata": {},
   "source": [
    "# EC2"
   ]
  },
  {
   "cell_type": "markdown",
   "metadata": {},
   "source": [
    "## 1. Intro"
   ]
  },
  {
   "cell_type": "markdown",
   "metadata": {},
   "source": [
    "https://blog.ipswitch.com/how-to-create-an-ec2-instance-with-python<br>\n",
    "https://stackabuse.com/automating-aws-ec2-management-with-python-and-boto3/"
   ]
  },
  {
   "cell_type": "code",
   "execution_count": 1,
   "metadata": {},
   "outputs": [],
   "source": [
    "import boto3\n",
    "ec2 = boto3.resource('ec2')"
   ]
  },
  {
   "cell_type": "code",
   "execution_count": 2,
   "metadata": {},
   "outputs": [],
   "source": [
    "# outfile = open('ec2-keypair.pem', 'w')\n",
    "# key_pair = ec2.create_key_pair(KeyName='jennie')\n",
    "\n",
    "# key_pair_str = str(key_pair.key_material)\n",
    "# # print(key_pair_str)\n",
    "# outfile.write(key_pair_str)"
   ]
  },
  {
   "cell_type": "code",
   "execution_count": 3,
   "metadata": {},
   "outputs": [],
   "source": [
    "def get_session(region):\n",
    "    return boto3.session.Session(region_name=region)"
   ]
  },
  {
   "cell_type": "code",
   "execution_count": 4,
   "metadata": {},
   "outputs": [],
   "source": [
    "session = get_session('ap-southeast-1')\n",
    "client = session.client('ec2')"
   ]
  },
  {
   "cell_type": "code",
   "execution_count": 5,
   "metadata": {},
   "outputs": [],
   "source": [
    "# import pprint\n",
    "# pprint.pprint(client.describe_instances())"
   ]
  },
  {
   "cell_type": "code",
   "execution_count": 6,
   "metadata": {},
   "outputs": [],
   "source": [
    "# ami - Amazon Machine Image\n",
    "# MinCount - MaxCount - minmax number of instances\n",
    "# InstanceType - t2.micro, t2.small, m5.large\n",
    "# why 2 instances\n",
    "\n",
    "\n",
    "# instances = ec2.create_instances(\n",
    "#     ImageId='ami-01f7527546b557442',\n",
    "#     MinCount=1,\n",
    "#     MaxCount=1,\n",
    "#     InstanceType='t2.micro',\n",
    "#     KeyName='jennie'\n",
    "# )"
   ]
  },
  {
   "cell_type": "code",
   "execution_count": 7,
   "metadata": {},
   "outputs": [
    {
     "name": "stdout",
     "output_type": "stream",
     "text": [
      "<class 'dict'>\n"
     ]
    }
   ],
   "source": [
    "demo = client.describe_instances(Filters=[{'Name': 'tag:Name', 'Values': ['demo-instance']}])\n",
    "\n",
    "# pprint.pprint(demo)\n",
    "print(type(demo))"
   ]
  },
  {
   "cell_type": "code",
   "execution_count": 8,
   "metadata": {},
   "outputs": [
    {
     "name": "stdout",
     "output_type": "stream",
     "text": [
      "{'Code': 16, 'Name': 'running'} i-075a9cafc2a4ac094\n"
     ]
    }
   ],
   "source": [
    "instance = demo['Reservations'][0]['Instances'][0]\n",
    "demo_state = instance['State']\n",
    "instance_id = instance['InstanceId']\n",
    "print(demo_state, instance_id)"
   ]
  },
  {
   "cell_type": "code",
   "execution_count": 14,
   "metadata": {
    "scrolled": true
   },
   "outputs": [
    {
     "data": {
      "text/plain": [
       "{'StoppingInstances': [{'CurrentState': {'Code': 64, 'Name': 'stopping'},\n",
       "   'InstanceId': 'i-075a9cafc2a4ac094',\n",
       "   'PreviousState': {'Code': 0, 'Name': 'pending'}}],\n",
       " 'ResponseMetadata': {'RequestId': '92322846-a60b-40c9-a195-637862341501',\n",
       "  'HTTPStatusCode': 200,\n",
       "  'HTTPHeaders': {'content-type': 'text/xml;charset=UTF-8',\n",
       "   'content-length': '578',\n",
       "   'date': 'Wed, 21 Aug 2019 01:58:02 GMT',\n",
       "   'server': 'AmazonEC2'},\n",
       "  'RetryAttempts': 0}}"
      ]
     },
     "execution_count": 14,
     "metadata": {},
     "output_type": "execute_result"
    }
   ],
   "source": [
    "client.stop_instances(InstanceIds=[instance_id])"
   ]
  },
  {
   "cell_type": "code",
   "execution_count": 15,
   "metadata": {},
   "outputs": [
    {
     "name": "stdout",
     "output_type": "stream",
     "text": [
      "{'Code': 16, 'Name': 'running'}\n"
     ]
    }
   ],
   "source": [
    "demo_state = instance['State']\n",
    "print(demo_state)"
   ]
  },
  {
   "cell_type": "code",
   "execution_count": 12,
   "metadata": {},
   "outputs": [
    {
     "data": {
      "text/plain": [
       "{'StartingInstances': [{'CurrentState': {'Code': 0, 'Name': 'pending'},\n",
       "   'InstanceId': 'i-075a9cafc2a4ac094',\n",
       "   'PreviousState': {'Code': 80, 'Name': 'stopped'}}],\n",
       " 'ResponseMetadata': {'RequestId': 'bf070ff7-9e1b-4934-9e81-44998c03b9ab',\n",
       "  'HTTPStatusCode': 200,\n",
       "  'HTTPHeaders': {'content-type': 'text/xml;charset=UTF-8',\n",
       "   'content-length': '579',\n",
       "   'date': 'Wed, 21 Aug 2019 01:57:48 GMT',\n",
       "   'server': 'AmazonEC2'},\n",
       "  'RetryAttempts': 0}}"
      ]
     },
     "execution_count": 12,
     "metadata": {},
     "output_type": "execute_result"
    }
   ],
   "source": [
    "client.start_instances(InstanceIds=[instance_id])"
   ]
  },
  {
   "cell_type": "code",
   "execution_count": 17,
   "metadata": {},
   "outputs": [
    {
     "name": "stdout",
     "output_type": "stream",
     "text": [
      "{'Code': 16, 'Name': 'running'}\n"
     ]
    }
   ],
   "source": [
    "demo_state = instance['State']\n",
    "print(demo_state)"
   ]
  },
  {
   "cell_type": "markdown",
   "metadata": {},
   "source": [
    " "
   ]
  },
  {
   "cell_type": "markdown",
   "metadata": {},
   "source": [
    " \n",
    " "
   ]
  },
  {
   "cell_type": "markdown",
   "metadata": {},
   "source": [
    "# 2. Connect to server by puTTy"
   ]
  },
  {
   "cell_type": "markdown",
   "metadata": {},
   "source": [
    "https://www.youtube.com/watch?v=bi7ow5NGC-U&t=2s"
   ]
  },
  {
   "cell_type": "markdown",
   "metadata": {},
   "source": [
    "# 3. Upload file to server"
   ]
  },
  {
   "cell_type": "markdown",
   "metadata": {},
   "source": [
    "WinSCP: https://www.youtube.com/watch?v=nSX4GjnmGlU"
   ]
  },
  {
   "cell_type": "markdown",
   "metadata": {},
   "source": [
    " \n",
    " "
   ]
  },
  {
   "cell_type": "markdown",
   "metadata": {},
   "source": [
    "# 4. Import boto3 on EC2 Instance"
   ]
  },
  {
   "cell_type": "code",
   "execution_count": null,
   "metadata": {},
   "outputs": [],
   "source": [
    "python3 -m venv env\n",
    "source ./env/bin/activate \n",
    "python3 -m pip install boto3"
   ]
  },
  {
   "cell_type": "markdown",
   "metadata": {},
   "source": [
    "### Error: Couldnt find credentials\n",
    "<br>\n",
    "aws configuration"
   ]
  },
  {
   "cell_type": "markdown",
   "metadata": {},
   "source": [
    " "
   ]
  },
  {
   "cell_type": "markdown",
   "metadata": {},
   "source": [
    "# Notes:"
   ]
  },
  {
   "cell_type": "markdown",
   "metadata": {},
   "source": [
    "1. Virtual machine, has memory and RAM<br>\n",
    "2. Putty -> CLI<br>\n",
    "    WinSCP -> Folder Manager\n",
    "3. Run script on it (work as am independent machine)"
   ]
  },
  {
   "cell_type": "markdown",
   "metadata": {},
   "source": []
  },
  {
   "cell_type": "markdown",
   "metadata": {},
   "source": []
  },
  {
   "cell_type": "markdown",
   "metadata": {},
   "source": []
  },
  {
   "cell_type": "markdown",
   "metadata": {},
   "source": []
  }
 ],
 "metadata": {
  "kernelspec": {
   "display_name": "Python 3",
   "language": "python",
   "name": "python3"
  },
  "language_info": {
   "codemirror_mode": {
    "name": "ipython",
    "version": 3
   },
   "file_extension": ".py",
   "mimetype": "text/x-python",
   "name": "python",
   "nbconvert_exporter": "python",
   "pygments_lexer": "ipython3",
   "version": "3.7.3"
  }
 },
 "nbformat": 4,
 "nbformat_minor": 2
}
